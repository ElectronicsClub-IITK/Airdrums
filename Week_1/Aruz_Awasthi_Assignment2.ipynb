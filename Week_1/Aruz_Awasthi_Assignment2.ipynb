{
  "nbformat": 4,
  "nbformat_minor": 0,
  "metadata": {
    "colab": {
      "provenance": []
    },
    "kernelspec": {
      "name": "python3",
      "display_name": "Python 3"
    },
    "language_info": {
      "name": "python"
    }
  },
  "cells": [
    {
      "cell_type": "code",
      "execution_count": 53,
      "metadata": {
        "id": "v2h1eehNiUgE"
      },
      "outputs": [],
      "source": [
        "import numpy as np\n",
        "import matplotlib.pyplot as plt\n"
      ]
    },
    {
      "cell_type": "code",
      "source": [
        "# Parameters\n",
        "frequency = 5  # Frequency of the sine wave\n",
        "amplitude = 1  # Amplitude of the sine wave\n",
        "noise_level = 0.5  # Level of noise to add to the sine wave\n",
        "num_samples = 1000  # Number of samples in the sine wave\n",
        "t = np.linspace(0, 1, num_samples)\n",
        "def generate_noisy_sine_wave(freq, amplitude, noise_level, num_samples):\n",
        "    # t = np.linspace(0, 1, num_samples)\n",
        "    clean_signal = amplitude * np.sin(2 * np.pi * freq * t)\n",
        "    noise = np.random.normal(scale=noise_level, size=num_samples)\n",
        "    noisy_signal = clean_signal + noise\n",
        "    plt.subplot(1,2,1)\n",
        "    plt.plot(t,noisy_signal,linewidth=3, label='noisy signal')\n",
        "    plt.subplot(1,2,2)\n",
        "    plt.plot(t,clean_signal,linewidth=3, label='original signal')\n",
        "    return noisy_signal\n",
        "\n",
        "noisy_signal=generate_noisy_sine_wave(frequency,amplitude,noise_level,num_samples)\n"
      ],
      "metadata": {
        "id": "P_QB4XbLiixI"
      },
      "execution_count": null,
      "outputs": []
    },
    {
      "cell_type": "code",
      "source": [
        "def dft(sig):\n",
        "    n=len(sig)\n",
        "    x= np.zeros(n, dtype=np.complex128) #creating an array of size n of Zeros (complex for computations of e^ ik)\n",
        "\n",
        "    for i in range(n):\n",
        "        for j in range(n):\n",
        "            x[i]+=sig[j]*np.exp(-2j*np.pi*i/n) #multiplying the factor in each element and storing it in newly formed array\n",
        "\n",
        "    return x\n",
        "signal=[1,1,1,1,0,0,0,0]\n",
        "\n",
        "#plt.plot(dft(signal),'r',label='dft')\n",
        "print(dft(signal))"
      ],
      "metadata": {
        "colab": {
          "base_uri": "https://localhost:8080/"
        },
        "id": "GoxRa8p_sJS2",
        "outputId": "2f7bcd21-015f-4068-8da4-f2797b374926"
      },
      "execution_count": 16,
      "outputs": [
        {
          "output_type": "stream",
          "name": "stdout",
          "text": [
            "[ 4.00000000e+00+0.00000000e+00j  2.82842712e+00-2.82842712e+00j\n",
            "  2.44929360e-16-4.00000000e+00j -2.82842712e+00-2.82842712e+00j\n",
            " -4.00000000e+00-4.89858720e-16j -2.82842712e+00+2.82842712e+00j\n",
            " -7.34788079e-16+4.00000000e+00j  2.82842712e+00+2.82842712e+00j]\n"
          ]
        }
      ]
    },
    {
      "cell_type": "code",
      "source": [
        "def fft(a):\n",
        "    n=len(a)\n",
        "    if n<=1:\n",
        "        return a[0]\n",
        "    a_even=fft(a[::2]) #dividing aarray into two (for binary kind of search to reduce time complexity)\n",
        "    a_odd=fft(a[1::2])\n",
        "    tf=[]\n",
        "    tf= np.exp(-2j*np.pi*np.arange(n)/n) #twiddle factor\n",
        "    x = np.concatenate([a_even + tf[:n//2] * a_odd, a_even + tf[n//2:] * a_odd])  #concatinating two array by multiplying twiddle factor\n",
        "    return x\n",
        "\n",
        "a=np.array([1,1,1,1,0,0,0,0]) #given array\n",
        "print(fft(a))"
      ],
      "metadata": {
        "colab": {
          "base_uri": "https://localhost:8080/"
        },
        "id": "OZfKLxqerkqW",
        "outputId": "5b159732-5969-49b2-afd9-2be9a2686b7a"
      },
      "execution_count": 14,
      "outputs": [
        {
          "output_type": "stream",
          "name": "stdout",
          "text": [
            "[ 4.0000000e+00+0.00000000e+00j  1.0000000e+00-2.41421356e+00j\n",
            " -1.2246468e-16-1.22464680e-16j  1.0000000e+00-4.14213562e-01j\n",
            "  0.0000000e+00-2.44929360e-16j  1.0000000e+00+4.14213562e-01j\n",
            "  1.2246468e-16-1.22464680e-16j  1.0000000e+00+2.41421356e+00j]\n"
          ]
        }
      ]
    },
    {
      "cell_type": "code",
      "source": [
        "#high pass filter\n",
        "def high_pass(signal,threshold):\n",
        "  n=len(signal)\n",
        "\n",
        "  # filtered_arr=np.array(n)\n",
        "  filtered_arr = np.zeros(n)\n",
        "\n",
        "  for i in range(0,n):\n",
        "    if signal[i]<threshold:  # filtering the array for high pass\n",
        "      filtered_arr[i]=0\n",
        "    else:\n",
        "      filtered_arr[i] = signal[i]\n",
        "  return filtered_arr\n",
        "\n",
        "signal=[1,1,1,1,0,0,0,0]\n",
        "ft=dft(signal)\n",
        "\n",
        "filtered_a=high_pass(ft,1)\n",
        "print(filtered_a)\n"
      ],
      "metadata": {
        "colab": {
          "base_uri": "https://localhost:8080/"
        },
        "id": "AJ8PvPqQurP4",
        "outputId": "bca6ca3f-a8be-41a0-b20b-7fccc18f42a1"
      },
      "execution_count": 37,
      "outputs": [
        {
          "output_type": "stream",
          "name": "stdout",
          "text": [
            "[4.         2.82842712 0.         0.         0.         0.\n",
            " 0.         2.82842712]\n"
          ]
        },
        {
          "output_type": "stream",
          "name": "stderr",
          "text": [
            "<ipython-input-37-6aa736a34bdb>:12: ComplexWarning: Casting complex values to real discards the imaginary part\n",
            "  filtered_arr[i] = signal[i]\n"
          ]
        }
      ]
    }
  ]
}