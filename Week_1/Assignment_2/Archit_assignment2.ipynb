{
 "cells": [
  {
   "cell_type": "code",
   "execution_count": 14,
   "id": "4f9f0f9c-649a-4fe2-98c4-e08499225fa4",
   "metadata": {},
   "outputs": [],
   "source": [
    "import numpy as np"
   ]
  },
  {
   "cell_type": "markdown",
   "id": "d494cade-901a-4bc3-9f69-630b461de904",
   "metadata": {},
   "source": [
    "Implementing FFT by Cooley-Tukey algorithm"
   ]
  },
  {
   "cell_type": "code",
   "execution_count": 15,
   "id": "c798e715-539b-4e3b-b668-10e85e2e7dea",
   "metadata": {},
   "outputs": [
    {
     "name": "stdout",
     "output_type": "stream",
     "text": [
      "[ 4.0000000e+00+0.00000000e+00j  1.0000000e+00-2.41421356e+00j\n",
      " -1.2246468e-16-1.22464680e-16j  1.0000000e+00-4.14213562e-01j\n",
      "  0.0000000e+00-2.44929360e-16j  1.0000000e+00+4.14213562e-01j\n",
      "  1.2246468e-16-1.22464680e-16j  1.0000000e+00+2.41421356e+00j]\n"
     ]
    }
   ],
   "source": [
    "def fft(a):\n",
    "    n=len(a)\n",
    "    if n<=1:\n",
    "        return a[0]\n",
    "    a_even=fft(a[::2]) #array of even index\n",
    "    a_odd=fft(a[1::2]) #array of odd index\n",
    "    tf= np.exp(-2j*np.pi*np.arange(n)/n) #twiddle factor\n",
    "    x = np.concatenate([a_even + tf[:n//2] * a_odd, a_even + tf[n//2:] * a_odd]) #concatinating two array by multiplying twiddle factor\n",
    "    return x\n",
    "\n",
    "a=np.array([1,1,1,1,0,0,0,0])\n",
    "x=fft(a)\n",
    "print(x)\n",
    "\n",
    "#output\n",
    "# [ 4.0000000e+00+0.00000000e+00j  1.0000000e+00-2.41421356e+00j\n",
    "#  -1.2246468e-16-1.22464680e-16j  1.0000000e+00-4.14213562e-01j\n",
    "#   0.0000000e+00-2.44929360e-16j  1.0000000e+00+4.14213562e-01j\n",
    "#   1.2246468e-16-1.22464680e-16j  1.0000000e+00+2.41421356e+00j]"
   ]
  },
  {
   "cell_type": "markdown",
   "id": "8f925856-e9cb-4ad9-8890-5486add5396f",
   "metadata": {},
   "source": [
    "Implementing DFT"
   ]
  },
  {
   "cell_type": "code",
   "execution_count": 16,
   "id": "284e5cd3-5ba5-4090-9ec6-130e7c0919b3",
   "metadata": {},
   "outputs": [
    {
     "name": "stdout",
     "output_type": "stream",
     "text": [
      "[ 4.00000000e+00+0.00000000e+00j  2.82842712e+00-2.82842712e+00j\n",
      "  2.44929360e-16-4.00000000e+00j -2.82842712e+00-2.82842712e+00j\n",
      " -4.00000000e+00-4.89858720e-16j -2.82842712e+00+2.82842712e+00j\n",
      " -7.34788079e-16+4.00000000e+00j  2.82842712e+00+2.82842712e+00j]\n"
     ]
    }
   ],
   "source": [
    "def dft(a):\n",
    "    n=len(a)\n",
    "    x= np.zeros(n, dtype=np.complex128) #creating an array of size n of Zeros with data type of complex 128 byte\n",
    "    for i in range(n):\n",
    "        for j in range(n):\n",
    "            x[i]+=a[j]*np.exp(-2j*np.pi*i/n) #multiplying the factor in each element and storing it in newly formed array\n",
    "    return x       \n",
    "        \n",
    "\n",
    "a=np.array([1,1,1,1,0,0,0,0])\n",
    "x=dft(a)\n",
    "print(x)\n",
    "\n",
    "#output\n",
    "# [ 4.00000000e+00+0.00000000e+00j  2.82842712e+00-2.82842712e+00j\n",
    "#   2.44929360e-16-4.00000000e+00j -2.82842712e+00-2.82842712e+00j\n",
    "#  -4.00000000e+00-4.89858720e-16j -2.82842712e+00+2.82842712e+00j\n",
    "#  -7.34788079e-16+4.00000000e+00j  2.82842712e+00+2.82842712e+00j]"
   ]
  },
  {
   "cell_type": "markdown",
   "id": "346ddf06-5b1c-433c-97d1-75cdb3097cc5",
   "metadata": {},
   "source": [
    "Implementing Moving Average Filter"
   ]
  },
  {
   "cell_type": "code",
   "execution_count": 17,
   "id": "eadf7b0c-b496-4c47-9704-bc821c5fae35",
   "metadata": {},
   "outputs": [
    {
     "name": "stdout",
     "output_type": "stream",
     "text": [
      "Filtered Data: [0.971232308603552, 1.0361729481902873, 0.7342908689934227, 0.34475216706568856, -0.031700587249235544, -0.03423198532252248]\n"
     ]
    }
   ],
   "source": [
    "def moving_average_filter(data, window_size):\n",
    "    filtered_data = []\n",
    "    for i in range(len(data) - window_size + 1):\n",
    "        window = data[i:i+window_size]\n",
    "        average = sum(window) / window_size\n",
    "        filtered_data.append(average)\n",
    "    return filtered_data\n",
    "\n",
    "# Given array\n",
    "data = [1, 1, 1, 1, 0, 0, 0, 0]\n",
    "\n",
    "noise = np.random.normal(0, 0.1, len(data))\n",
    "noisy_data = data + noise\n",
    "\n",
    "# Window size for the moving average filter\n",
    "window_size = 3\n",
    "\n",
    "# Apply moving average filter\n",
    "filtered_data = moving_average_filter(noisy_data, window_size)\n",
    "\n",
    "# Print the filtered data\n",
    "#output \n",
    "print(\"Filtered Data:\", filtered_data)"
   ]
  }
 ],
 "metadata": {
  "kernelspec": {
   "display_name": "Python 3 (ipykernel)",
   "language": "python",
   "name": "python3"
  },
  "language_info": {
   "codemirror_mode": {
    "name": "ipython",
    "version": 3
   },
   "file_extension": ".py",
   "mimetype": "text/x-python",
   "name": "python",
   "nbconvert_exporter": "python",
   "pygments_lexer": "ipython3",
   "version": "3.12.3"
  }
 },
 "nbformat": 4,
 "nbformat_minor": 5
}
